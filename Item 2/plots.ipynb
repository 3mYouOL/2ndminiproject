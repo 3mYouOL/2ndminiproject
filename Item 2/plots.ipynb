{
 "cells": [
  {
   "cell_type": "markdown",
   "id": "8b6f63f2-1d47-4533-81be-4d77cc30cb5a",
   "metadata": {},
   "source": [
    "<table width=\"100%\">\n",
    "    <tr>\n",
    "        <td>\n",
    "            <h2>CMSC197 (Data Science) - 2nd Miniproject (Item 2)</h2>\n",
    "        </td>\n",
    "    </tr>\n",
    "    <tr>\n",
    "        <td><b>Author:</b></td>\n",
    "    </tr>\n",
    "    <tr>\n",
    "        <td><a href=\"https://github.com/3mYouOL/\">Nelson Loumedes V. Villarta I</a></td>\n",
    "    </tr>\n",
    "    <tr>\n",
    "        <td><b>Version:</b></td>\n",
    "    </tr>\n",
    "    <tr>\n",
    "        <td>0.99</td>\n",
    "    </tr>\n",
    "    <tr>\n",
    "        <td><b>Date:</b></td>\n",
    "    </tr>\n",
    "    <tr>\n",
    "        <td>1/14/22</td>\n",
    "    </tr>\n",
    "</table>"
   ]
  },
  {
   "cell_type": "code",
   "execution_count": 1,
   "id": "3aec4755-b02e-4aa2-94fe-9b06f7ac073b",
   "metadata": {},
   "outputs": [
    {
     "name": "stderr",
     "output_type": "stream",
     "text": [
      "\n",
      "Attaching package: 'dplyr'\n",
      "\n",
      "\n",
      "The following objects are masked from 'package:stats':\n",
      "\n",
      "    filter, lag\n",
      "\n",
      "\n",
      "The following objects are masked from 'package:base':\n",
      "\n",
      "    intersect, setdiff, setequal, union\n",
      "\n",
      "\n",
      "\n",
      "Attaching package: 'lubridate'\n",
      "\n",
      "\n",
      "The following objects are masked from 'package:base':\n",
      "\n",
      "    date, intersect, setdiff, union\n",
      "\n",
      "\n"
     ]
    }
   ],
   "source": [
    "# Import required libraries\n",
    "\n",
    "library(dplyr)\n",
    "library(lubridate)\n",
    "library(ggplot2)\n",
    "library(ggpubr)\n",
    "library(scales)"
   ]
  },
  {
   "cell_type": "code",
   "execution_count": 2,
   "id": "325550ac-7234-4d39-b4ab-3db873b1348f",
   "metadata": {},
   "outputs": [],
   "source": [
    "# Import required data from dataset file\n",
    "\n",
    "data <- read.table(\"specdata/household_power_consumption.txt\", header = TRUE, sep=\";\", na.strings = \"?\") %>%\n",
    "    mutate(DateTime = dmy_hms(paste(Date, Time))) %>%\n",
    "    filter(DateTime >= ymd(\"2007-02-01\"), DateTime < ymd(\"2007-02-03\"))"
   ]
  },
  {
   "cell_type": "code",
   "execution_count": 3,
   "id": "d3543f89-93c2-4d7e-a7c0-3b1b7ceccb72",
   "metadata": {},
   "outputs": [],
   "source": [
    "# Construct plot 1\n",
    "\n",
    "plot1 <- data %>%\n",
    "    select(Global_active_power) %>%\n",
    "    ggplot(aes(x = Global_active_power)) +\n",
    "        theme(panel.grid.major = element_blank()) +\n",
    "        theme(panel.grid.minor = element_blank()) +\n",
    "        theme(panel.background = element_blank()) +\n",
    "        theme(axis.line = element_line(colour = \"black\")) +\n",
    "\n",
    "        geom_histogram(bins=18, fill=\"red\", color=\"black\") +\n",
    "\n",
    "        ggtitle(\"Global Active Power\") +\n",
    "        theme(plot.title = element_text(face=\"bold\")) +\n",
    "        theme(plot.title = element_text(hjust = 0.5)) +\n",
    "\n",
    "        xlab(\"Global Active Power (kilowatts)\") + \n",
    "        theme(axis.title.y = element_blank())"
   ]
  },
  {
   "cell_type": "code",
   "execution_count": 4,
   "id": "2574a407-2efe-428f-9642-32f607322e0b",
   "metadata": {},
   "outputs": [
    {
     "data": {
      "text/html": [
       "<strong>png:</strong> 2"
      ],
      "text/latex": [
       "\\textbf{png:} 2"
      ],
      "text/markdown": [
       "**png:** 2"
      ],
      "text/plain": [
       "png \n",
       "  2 "
      ]
     },
     "metadata": {},
     "output_type": "display_data"
    },
    {
     "data": {
      "image/png": "[encoded data removed]",
      "text/plain": [
       "plot without title"
      ]
     },
     "metadata": {
      "image/png": {
       "height": 420,
       "width": 420
      }
     },
     "output_type": "display_data"
    }
   ],
   "source": [
    "# Preview plot 1 and export as PNG\n",
    "\n",
    "plot1\n",
    "\n",
    "png(file = \"plot1.png\")\n",
    "plot1\n",
    "dev.off()"
   ]
  },
  {
   "cell_type": "code",
   "execution_count": 5,
   "id": "17b011c8-5a67-4846-943e-6ca077c82e5b",
   "metadata": {},
   "outputs": [],
   "source": [
    "# Construct plot 2\n",
    "plot2 <- data %>%\n",
    "    select(Global_active_power, DateTime) %>%\n",
    "    ggplot(aes(x = DateTime, y = Global_active_power)) +\n",
    "        theme(panel.grid.major = element_blank()) +\n",
    "        theme(panel.grid.minor = element_blank()) +\n",
    "        theme(panel.background = element_blank()) +\n",
    "        theme(axis.line = element_line(colour = \"black\")) +\n",
    "\n",
    "        geom_line() +\n",
    "        scale_x_datetime(labels = date_format(\"%A\")) +\n",
    "\n",
    "        ylab(\"Global Active Power (kilowatts)\") + \n",
    "        theme(axis.title.x = element_blank())"
   ]
  },
  {
   "cell_type": "code",
   "execution_count": 6,
   "id": "375fb428-c8a0-40e5-b8d9-04f7ecb7f833",
   "metadata": {},
   "outputs": [
    {
     "data": {
      "text/html": [
       "<strong>png:</strong> 2"
      ],
      "text/latex": [
       "\\textbf{png:} 2"
      ],
      "text/markdown": [
       "**png:** 2"
      ],
      "text/plain": [
       "png \n",
       "  2 "
      ]
     },
     "metadata": {},
     "output_type": "display_data"
    },
    {
     "data": {
      "image/png": "[encoded data removed]",
      "text/plain": [
       "plot without title"
      ]
     },
     "metadata": {
      "image/png": {
       "height": 420,
       "width": 420
      }
     },
     "output_type": "display_data"
    }
   ],
   "source": [
    "# Preview plot 2 and export as PNG\n",
    "\n",
    "plot2\n",
    "\n",
    "png(file = \"plot2.png\")\n",
    "plot2\n",
    "dev.off()"
   ]
  },
  {
   "cell_type": "code",
   "execution_count": 7,
   "id": "4c7850eb-a4ec-4f78-8541-127be15d7ba1",
   "metadata": {},
   "outputs": [],
   "source": [
    "# Construct plot 3\n",
    "\n",
    "plot3 <- data %>%\n",
    "    select(Sub_metering_1, Sub_metering_2, Sub_metering_3, DateTime) %>%\n",
    "    ggplot() + \n",
    "        theme(panel.grid.major = element_blank()) +\n",
    "        theme(panel.grid.minor = element_blank()) +\n",
    "        theme(panel.background = element_blank()) +\n",
    "        theme(axis.line = element_line(colour = \"black\")) +\n",
    "\n",
    "        geom_line(aes(x = DateTime, y = Sub_metering_1, colour = \"Sub_metering_1\")) +\n",
    "        geom_line(aes(x = DateTime, y = Sub_metering_2, colour = \"Sub_metering_2\")) +\n",
    "        geom_line(aes(x = DateTime, y = Sub_metering_3, colour = \"Sub_metering_3\")) +\n",
    "\n",
    "        theme(legend.position = c(0.9, 0.95)) +\n",
    "        theme(legend.title = element_blank()) +\n",
    "        scale_color_manual(values = c(\"black\", \"red\", \"blue\")) +\n",
    "        scale_x_datetime(labels = date_format(\"%A\")) +\n",
    "\n",
    "        ylab(\"Energy sub metering\") + \n",
    "        theme(axis.title.x = element_blank())"
   ]
  },
  {
   "cell_type": "code",
   "execution_count": 8,
   "id": "09279329-c79d-4f5b-ae3b-8c5a9f8145af",
   "metadata": {},
   "outputs": [
    {
     "data": {
      "text/html": [
       "<strong>png:</strong> 2"
      ],
      "text/latex": [
       "\\textbf{png:} 2"
      ],
      "text/markdown": [
       "**png:** 2"
      ],
      "text/plain": [
       "png \n",
       "  2 "
      ]
     },
     "metadata": {},
     "output_type": "display_data"
    },
    {
     "data": {
      "image/png": "[encoded data removed]",
      "text/plain": [
       "plot without title"
      ]
     },
     "metadata": {
      "image/png": {
       "height": 420,
       "width": 420
      }
     },
     "output_type": "display_data"
    }
   ],
   "source": [
    "# Preview plot 3 and export as PNG\n",
    "\n",
    "plot3\n",
    "\n",
    "png(file = \"plot3.png\")\n",
    "plot3\n",
    "dev.off()"
   ]
  },
  {
   "cell_type": "code",
   "execution_count": 9,
   "id": "ced51e72-d40c-403a-b16a-63d76432819b",
   "metadata": {},
   "outputs": [],
   "source": [
    "# Construct plot 4 subplot 2\n",
    "\n",
    "plot4_2 <- data %>%\n",
    "    select(Voltage, DateTime) %>%\n",
    "    ggplot(aes(x = DateTime, y = Voltage)) +\n",
    "        theme(panel.grid.major = element_blank()) +\n",
    "        theme(panel.grid.minor = element_blank()) +\n",
    "        theme(panel.background = element_blank()) +\n",
    "        theme(axis.line = element_line(colour = \"black\")) +\n",
    "\n",
    "        geom_line() +\n",
    "        scale_x_datetime(labels = date_format(\"%A\"))"
   ]
  },
  {
   "cell_type": "code",
   "execution_count": 10,
   "id": "1b27d88e-fc85-47a9-abe8-7a104ecac2a5",
   "metadata": {},
   "outputs": [
    {
     "data": {
      "image/png": "[encoded data removed]",
      "text/plain": [
       "plot without title"
      ]
     },
     "metadata": {
      "image/png": {
       "height": 420,
       "width": 420
      }
     },
     "output_type": "display_data"
    }
   ],
   "source": [
    "# Preview plot 4 subplot 2\n",
    "\n",
    "plot4_2"
   ]
  },
  {
   "cell_type": "code",
   "execution_count": 11,
   "id": "e6e35afd-5df9-4356-81dd-809acb5c3ed9",
   "metadata": {},
   "outputs": [],
   "source": [
    "# Construct plot 4 subplot 4\n",
    "\n",
    "plot4_4 <- data %>%\n",
    "    select(Global_reactive_power, DateTime, Date) %>%\n",
    "    ggplot(aes(x = DateTime, y = Global_reactive_power)) +\n",
    "        theme(panel.grid.major = element_blank()) +\n",
    "        theme(panel.grid.minor = element_blank()) +\n",
    "        theme(panel.background = element_blank()) +\n",
    "        theme(axis.line = element_line(colour = \"black\")) +\n",
    "\n",
    "        geom_line() +\n",
    "        scale_x_datetime(labels = date_format(\"%A\"))"
   ]
  },
  {
   "cell_type": "code",
   "execution_count": 12,
   "id": "5648f21d-d335-4693-8ddb-14c576b50803",
   "metadata": {},
   "outputs": [
    {
     "data": {
      "image/png": "[encoded data removed]",
      "text/plain": [
       "plot without title"
      ]
     },
     "metadata": {
      "image/png": {
       "height": 420,
       "width": 420
      }
     },
     "output_type": "display_data"
    }
   ],
   "source": [
    "# Preview plot subplot 4\n",
    "\n",
    "plot4_4"
   ]
  },
  {
   "cell_type": "code",
   "execution_count": 13,
   "id": "b077946c-763f-40ea-8c86-ff18e36b467f",
   "metadata": {},
   "outputs": [],
   "source": [
    "# Arrange subplots into a single plot\n",
    "\n",
    "plot4 <- ggarrange(plot2 +\n",
    "                       ylab(\"Global Active Power\") +\n",
    "                       theme(axis.title.x = element_text(color = \"white\")) +\n",
    "                       theme(plot.margin = unit(c(0.75, 0.75, 0.75, 0.75), \"cm\")),\n",
    "                   plot4_2 +\n",
    "                       theme(plot.margin = unit(c(0.75, 0.75, 0.75, 0.75), \"cm\")),\n",
    "                   plot3 + theme(legend.position = c(0.8, 0.9)) +\n",
    "                       theme(axis.title.x = element_text(color = \"white\")) +\n",
    "                       theme(plot.margin = unit(c(0.75, 0.75, 0.75, 0.75), \"cm\")),\n",
    "                   plot4_4 +\n",
    "                       theme(plot.margin = unit(c(0.75, 0.75, 0.75, 0.75), \"cm\")),\n",
    "                   ncol = 2, nrow = 2)"
   ]
  },
  {
   "cell_type": "code",
   "execution_count": 14,
   "id": "985105a4-a8b8-4396-8b70-788984c583a7",
   "metadata": {},
   "outputs": [
    {
     "data": {
      "text/html": [
       "<strong>png:</strong> 2"
      ],
      "text/latex": [
       "\\textbf{png:} 2"
      ],
      "text/markdown": [
       "**png:** 2"
      ],
      "text/plain": [
       "png \n",
       "  2 "
      ]
     },
     "metadata": {},
     "output_type": "display_data"
    },
    {
     "data": {
      "image/png": "[encoded data removed]",
      "text/plain": [
       "plot without title"
      ]
     },
     "metadata": {
      "image/png": {
       "height": 420,
       "width": 420
      }
     },
     "output_type": "display_data"
    }
   ],
   "source": [
    "# Preview plot 4 and explort as PNG\n",
    "\n",
    "plot4\n",
    "\n",
    "png(file = \"plot4.png\")\n",
    "plot4\n",
    "dev.off()"
   ]
  }
 ],
 "metadata": {
  "kernelspec": {
   "display_name": "R",
   "language": "R",
   "name": "ir"
  },
  "language_info": {
   "codemirror_mode": "r",
   "file_extension": ".r",
   "mimetype": "text/x-r-source",
   "name": "R",
   "pygments_lexer": "r",
   "version": "4.1.2"
  }
 },
 "nbformat": 4,
 "nbformat_minor": 5
}
